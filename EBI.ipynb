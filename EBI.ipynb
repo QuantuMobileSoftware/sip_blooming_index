{
 "cells": [
  {
   "attachments": {},
   "cell_type": "markdown",
   "metadata": {},
   "source": [
    "### For given aoi, prepare EBI sentinel latest images "
   ]
  },
  {
   "cell_type": "code",
   "execution_count": null,
   "metadata": {},
   "outputs": [],
   "source": [
    "import os\n",
    "import geopandas as gp\n",
    "import numpy as np\n",
    "import rasterio\n",
    "import re\n",
    "import pyproj\n",
    "import json\n",
    "import geojson\n",
    "import shutil\n",
    "import tempfile\n",
    "import uuid\n",
    "\n",
    "from geojson import Feature\n",
    "\n",
    "import rasterio.mask\n",
    "from rasterio.plot import reshape_as_raster\n",
    "from rasterio.merge import merge\n",
    "from rasterio.warp import calculate_default_transform, reproject, Resampling\n",
    "\n",
    "from shapely import wkt\n",
    "from shapely.ops import transform\n",
    "\n",
    "\n",
    "from pathlib import Path\n",
    "from datetime import datetime, timedelta\n",
    "from sentinel2download.downloader import Sentinel2Downloader\n",
    "from sentinel2download.overlap import Sentinel2Overlap"
   ]
  },
  {
   "attachments": {},
   "cell_type": "markdown",
   "metadata": {},
   "source": [
    "#### 0. Inputs"
   ]
  },
  {
   "cell_type": "code",
   "execution_count": null,
   "metadata": {},
   "outputs": [],
   "source": [
    "# Inputs\n",
    "AOI = os.getenv('AOI', default=\"POLYGON ((-85.299088 40.339368, -85.332047 40.241477, -85.134979 40.229427, -85.157639 40.34146, -85.299088 40.339368))\")\n",
    "START_DATE = os.getenv(\"START_DATE\", default=\"2020-07-01\")\n",
    "END_DATE = os.getenv(\"END_DATE\", default=\"2020-08-01\")  # on production user chooses only start date, so backend set end date = start date in the request to the model\n",
    "SENTINEL2_GOOGLE_API_KEY = os.getenv('SENTINEL2_GOOGLE_API_KEY')\n",
    "SATELLITE_CACHE_FOLDER = os.getenv('SENTINEL2_CACHE')\n",
    "\n",
    "# Output folder\n",
    "OUTPUT_FOLDER = os.getenv('OUTPUT_FOLDER')"
   ]
  },
  {
   "cell_type": "code",
   "execution_count": null,
   "metadata": {},
   "outputs": [],
   "source": [
    "OUTPUT_NODATA_FOLDER = os.path.join(OUTPUT_FOLDER, \"nodata/\")\n",
    "OUTPUT_EBI_FILE = os.path.join(OUTPUT_FOLDER, \"EBI.tif\")\n",
    "OUTPUT_TCI_FILE = os.path.join(OUTPUT_FOLDER, \"TCI.tif\")\n",
    "\n",
    "os.makedirs(OUTPUT_NODATA_FOLDER, exist_ok=True)\n",
    "os.makedirs(OUTPUT_FOLDER, exist_ok=True)"
   ]
  },
  {
   "attachments": {},
   "cell_type": "markdown",
   "metadata": {},
   "source": [
    "#### 1. Transform AOI and get bound_box"
   ]
  },
  {
   "cell_type": "code",
   "execution_count": null,
   "metadata": {},
   "outputs": [],
   "source": [
    "aoi = gp.GeoDataFrame(geometry=[wkt.loads(AOI)], crs=\"epsg:4326\")    \n",
    "aoi_filename = \"provided_aoi.geojson\"\n",
    "aoi.to_file(aoi_filename, driver=\"GeoJSON\") "
   ]
  },
  {
   "cell_type": "code",
   "execution_count": null,
   "metadata": {},
   "outputs": [],
   "source": [
    "COLORMAP_BRBG = os.path.join('/code', 'colormap.npy') "
   ]
  },
  {
   "attachments": {},
   "cell_type": "markdown",
   "metadata": {},
   "source": [
    "#### 2. Overlap AOI with sentinel2grid "
   ]
  },
  {
   "cell_type": "code",
   "execution_count": null,
   "metadata": {},
   "outputs": [],
   "source": [
    "s2overlap = Sentinel2Overlap(aoi_path=aoi_filename)\n",
    "overlap_tiles = s2overlap.overlap_with_geometry()"
   ]
  },
  {
   "attachments": {},
   "cell_type": "markdown",
   "metadata": {},
   "source": [
    "#### 3. Load images"
   ]
  },
  {
   "cell_type": "code",
   "execution_count": null,
   "metadata": {},
   "outputs": [],
   "source": [
    "LOAD_DIR = SATELLITE_CACHE_FOLDER\n",
    "\n",
    "BANDS = {\"TCI\", \"CLD\"}\n",
    "NODATA_PIXEL_PERCENTAGE = 10.0\n",
    "SEARCH_CLOUDY_PIXEL_PERCENTAGE = 80.0\n",
    "AOI_CLOUDY_PIXEL_PERCENTAGE = 15.0\n",
    "CONSTRAINTS = {'CLOUDY_PIXEL_PERCENTAGE': SEARCH_CLOUDY_PIXEL_PERCENTAGE}\n",
    "PRODUCT_TYPE = 'L2A'\n",
    "\n",
    "LAYERS = ['EBI', 'TCI']"
   ]
  },
  {
   "cell_type": "code",
   "execution_count": null,
   "metadata": {},
   "outputs": [],
   "source": [
    "def shift_date(date, delta=5, format='%Y-%m-%d'):\n",
    "    date = datetime.strptime(date, format)\n",
    "    date = date - timedelta(days=delta)    \n",
    "    return datetime.strftime(date, format)"
   ]
  },
  {
   "attachments": {},
   "cell_type": "markdown",
   "metadata": {},
   "source": [
    "#### 3.1 Define max shift in dates - 30 days for loading images"
   ]
  },
  {
   "cell_type": "code",
   "execution_count": null,
   "metadata": {},
   "outputs": [],
   "source": [
    "MAX_SHIFT = 30\n",
    "MAX_SHIFT_ITERS = 2"
   ]
  },
  {
   "cell_type": "code",
   "execution_count": null,
   "metadata": {},
   "outputs": [],
   "source": [
    "def dump_no_data_geojson(polygon, geojson_path):\n",
    "    NO_DATA = 'No data'\n",
    "    style = dict(color='red')\n",
    "    feature = Feature(geometry=polygon, properties=dict(label=NO_DATA, style=style))\n",
    "    feature['start_date'] = START_DATE\n",
    "    feature['end_date'] = END_DATE\n",
    "    feature['name'] = NO_DATA\n",
    "    \n",
    "    with open(geojson_path, 'w') as f:\n",
    "        geojson.dump(feature, f)\n",
    "\n",
    "def check_nodata_percentage_crop(tile_path, \n",
    "                                 aoi, \n",
    "                                 nodata_percentage_limit, \n",
    "                                 nodata):\n",
    "    with rasterio.open(tile_path) as src:\n",
    "        polygon = aoi.to_crs(src.meta['crs']).geometry[0]\n",
    "        band, _ = rasterio.mask.mask(src, [polygon], crop=True, filled=False, indexes=1)\n",
    "        masked_band = band[~band.mask]\n",
    "        nodata_count = np.count_nonzero(masked_band == nodata)\n",
    "        nodata_percentage = round(nodata_count / masked_band.size * 100, 2)\n",
    "    if nodata_percentage>=nodata_percentage_limit:\n",
    "        return True\n",
    "    else:\n",
    "        return False\n",
    "\n",
    "def check_cloud_percentage_crop(tile_path, \n",
    "                                aoi, \n",
    "                                cloud_percentage_limit,\n",
    "                                cloud_probability=50):\n",
    "    with rasterio.open(tile_path) as src:\n",
    "        polygon = aoi.to_crs(src.meta['crs']).geometry[0]\n",
    "        band, _ = rasterio.mask.mask(src, [polygon], crop=True, filled=False, indexes=1)\n",
    "        masked_band = band[~band.mask]\n",
    "        cloud_count = np.count_nonzero(masked_band >= cloud_probability)\n",
    "        cloud_percentage = round(cloud_count / masked_band.size * 100, 2)\n",
    "    if cloud_percentage>=cloud_percentage_limit:\n",
    "        return True\n",
    "    else:\n",
    "        return False\n",
    "\n",
    "def check_tile_validity(tile_folder, aoi, cloud_percentage_limit, nodata_percentage_limit):\n",
    "    band_paths = [os.path.join(tile_folder, i) for i in os.listdir(tile_folder)]\n",
    "    skip_tile = False\n",
    "    for band_path in band_paths:\n",
    "        if  '.jp2' != Path(band_path).suffix:\n",
    "            continue\n",
    "        if \"MSK_CLDPRB_20m\" in band_path:\n",
    "            cloud_check = check_cloud_percentage_crop(band_path, aoi, cloud_percentage_limit)\n",
    "            if cloud_check:\n",
    "                skip_tile=True\n",
    "                break\n",
    "        else:\n",
    "            nodata_check = check_nodata_percentage_crop(band_path, aoi, nodata_percentage_limit, 0)\n",
    "            if nodata_check:\n",
    "                skip_tile=True\n",
    "                break\n",
    "    return skip_tile, band_paths\n",
    "\n",
    "def validate_tile_downloads(loaded, tile, loadings, aoi, cloud_percentage_limit, nodata_percentage_limit):\n",
    "    print(f\"Validating images for tile: {tile}...\")\n",
    "    if not loaded:\n",
    "        print(f\"Images for tile {tile} were not loaded!\")\n",
    "        return loadings\n",
    "    loaded_tile_folders = set([Path(i[0]).parent for i in loaded])\n",
    "    tile_bands = []\n",
    "    for loaded_tile_folder in loaded_tile_folders:\n",
    "        skip_tile, band_paths = check_tile_validity(loaded_tile_folder, aoi, cloud_percentage_limit, nodata_percentage_limit)\n",
    "        if skip_tile:\n",
    "            shutil.rmtree(loaded_tile_folder)\n",
    "        else:\n",
    "            tile_bands += band_paths\n",
    "    if tile_bands:\n",
    "        loadings[tile] = tile_bands\n",
    "    else:\n",
    "        print(f\"Tile images didn't match nodata/cloud constraints, so they were removed\") \n",
    "    print(f\"Validating images for tile {tile} finished\")  \n",
    "    return loadings\n",
    "\n",
    "def load_images(tiles, start_date, end_date, aoi):\n",
    "    loader = Sentinel2Downloader(SENTINEL2_GOOGLE_API_KEY)\n",
    "    loadings = dict()\n",
    "\n",
    "    for tile in tiles:\n",
    "        print(f\"Loading images for tile: {tile}...\")\n",
    "        count = 0\n",
    "        start = start_date\n",
    "        end = end_date\n",
    "        loaded = []\n",
    "        while count < MAX_SHIFT_ITERS:\n",
    "            loaded = loader.download(PRODUCT_TYPE,\n",
    "                                [tile],\n",
    "                                start_date=start,\n",
    "                                end_date=end,\n",
    "                                output_dir=SATELLITE_CACHE_FOLDER,               \n",
    "                                bands=BANDS,\n",
    "                                constraints=CONSTRAINTS)\n",
    "            if not loaded:\n",
    "                end = start_date\n",
    "                start = shift_date(start_date, delta=MAX_SHIFT) \n",
    "                print(f\"For tile: {tile} and dates {start_date} {end_date} proper images not found! Shift dates to {start} {end}!\")\n",
    "            else:\n",
    "                break\n",
    "            count += 1\n",
    "        print(f\"Loading images for tile {tile} finished\")\n",
    "        if count < MAX_SHIFT_ITERS:\n",
    "            loadings = validate_tile_downloads(loaded, tile, loadings, aoi, AOI_CLOUDY_PIXEL_PERCENTAGE, NODATA_PIXEL_PERCENTAGE)\n",
    "            # TO-DO:\n",
    "            # Agree with the Product how we should proceed analysis in case when the date for chosen date is not valid for making prediction \n",
    "            # (e.g. apply date shifts and show valid results but for another date or just message a user that there is no good data available)\n",
    "        else:\n",
    "            geojson_path = os.path.join(OUTPUT_FOLDER, f\"{START_DATE}_{END_DATE}_no_data.geojson\")\n",
    "            dump_no_data_geojson(aoi.geometry[0], geojson_path)\n",
    "            raise ValueError(\"Images not loaded for given AOI. Change dates, constraints\")\n",
    "    return loadings"
   ]
  },
  {
   "cell_type": "code",
   "execution_count": null,
   "metadata": {},
   "outputs": [],
   "source": [
    "loadings = load_images(overlap_tiles.Name.values, START_DATE, END_DATE, aoi)"
   ]
  },
  {
   "cell_type": "code",
   "execution_count": null,
   "metadata": {},
   "outputs": [],
   "source": [
    "loadings"
   ]
  },
  {
   "attachments": {},
   "cell_type": "markdown",
   "metadata": {},
   "source": [
    "#### 3.2 Filter loadings for every tile, get last image in daterange and bands"
   ]
  },
  {
   "cell_type": "code",
   "execution_count": null,
   "metadata": {},
   "outputs": [],
   "source": [
    "def filter_by_date(loadings):\n",
    "    def _find_last_date(folders):        \n",
    "        dates = list()\n",
    "        for folder in folders:        \n",
    "            search = re.search(r\"_(\\d+)T\\d+_\", str(folder))\n",
    "            date = search.group(1)\n",
    "            date = datetime.strptime(date, '%Y%m%d')\n",
    "            dates.append(date)    \n",
    "        last_date = max(dates)\n",
    "        last_date = datetime.strftime(last_date, '%Y%m%d')\n",
    "        return last_date\n",
    "    \n",
    "    filtered = {\n",
    "        'TCI': []\n",
    "    }\n",
    "    for tile, items in loadings.items():\n",
    "        try:\n",
    "            last_date = _find_last_date(items)\n",
    "            for path in items:\n",
    "                if last_date in path:\n",
    "                    if 'TCI_10m.jp2' in path:\n",
    "                        filtered['TCI'] += [path]\n",
    "            filtered['date'] = last_date\n",
    "        except Exception as ex:\n",
    "            print(f\"Error for {tile}: {str(ex)}\")\n",
    "    return filtered"
   ]
  },
  {
   "cell_type": "code",
   "execution_count": null,
   "metadata": {},
   "outputs": [],
   "source": [
    "filtered = filter_by_date(loadings)\n",
    "filtered"
   ]
  },
  {
   "attachments": {},
   "cell_type": "markdown",
   "metadata": {},
   "source": [
    "#### 4. Calculate EBI"
   ]
  },
  {
   "attachments": {},
   "cell_type": "markdown",
   "metadata": {},
   "source": [
    "#### 4.1 Prepare color coding for EBI"
   ]
  },
  {
   "cell_type": "code",
   "execution_count": null,
   "metadata": {},
   "outputs": [],
   "source": [
    "def prepare_colors(colors):\n",
    "    colors = np.load(COLORMAP_BRBG)\n",
    "    if colors.shape[1] == 4:\n",
    "        # delete last channel, we use rgb\n",
    "        colors = np.delete(colors, 3, axis=1)\n",
    "    # colormap colors values in range [0-255], but in our case 0 - no data, -> have to color as [0, 0, 0] \n",
    "    colors[colors == 0] = 1\n",
    "    colors[0] = [0, 0, 0]\n",
    "    return colors"
   ]
  },
  {
   "cell_type": "code",
   "execution_count": null,
   "metadata": {},
   "outputs": [],
   "source": [
    "COLORS = prepare_colors(COLORMAP_BRBG)"
   ]
  },
  {
   "cell_type": "code",
   "execution_count": null,
   "metadata": {},
   "outputs": [],
   "source": [
    "COLORS.shape"
   ]
  },
  {
   "cell_type": "code",
   "execution_count": null,
   "metadata": {},
   "outputs": [],
   "source": [
    "colormap_tag = {\"name\": \"Enhanced Blooming index\", \"colors\": [], \"labels\": [\"low\", \"high\"]}\n",
    "\n",
    "for color in COLORS:\n",
    "    color_str = \",\".join(list(map(lambda x: str(int(x)), color)))\n",
    "    colormap_tag['colors'].append(color_str)\n",
    "\n",
    "colormap_tag = json.dumps(colormap_tag)\n",
    "# example of colormap_tag format\n",
    "# {\"name\": \"Vegetation index\", \"colors\": [\"0,0,0\", \"255,0,0\", \"0,255,0\", \"0,0,255\" ...], \"labels\": [\"low\", \"high\"]}\n"
   ]
  },
  {
   "cell_type": "code",
   "execution_count": null,
   "metadata": {},
   "outputs": [],
   "source": [
    "def scale(val, a=1, b=255, nodata=0.0):\n",
    "    min_val = 0\n",
    "    max_val = 1\n",
    "    scaled = (b - a) * (val - min_val) / (max_val - min_val) + a\n",
    "    scaled = np.around(scaled)\n",
    "    scaled[np.isnan(scaled) == True] = nodata\n",
    "    scaled = scaled.astype(np.uint8)\n",
    "    return scaled"
   ]
  },
  {
   "cell_type": "code",
   "execution_count": null,
   "metadata": {},
   "outputs": [],
   "source": [
    "def color_ebi(scaled, colors):\n",
    "    colored = np.reshape(colors[scaled.flatten()], tuple((*scaled.shape, 3)))\n",
    "    colored = reshape_as_raster(colored)\n",
    "    return colored"
   ]
  },
  {
   "cell_type": "code",
   "execution_count": null,
   "metadata": {},
   "outputs": [],
   "source": [
    "def to_crs(poly, target, current='EPSG:4326'):\n",
    "    project = pyproj.Transformer.from_crs(pyproj.CRS(current), pyproj.CRS(target), always_xy=True).transform\n",
    "    transformed_poly = transform(project, poly)\n",
    "    return transformed_poly "
   ]
  },
  {
   "cell_type": "code",
   "execution_count": null,
   "metadata": {},
   "outputs": [],
   "source": [
    "def crop(input_path, output_path, polygon, date, name=None, colormap=None):\n",
    "    with rasterio.open(input_path) as src:\n",
    "        out_image, out_transform = rasterio.mask.mask(src, [polygon], crop=True)\n",
    "        out_meta = src.meta\n",
    "        \n",
    "        out_meta.update(driver='GTiff',\n",
    "                        height=out_image.shape[1],\n",
    "                        width=out_image.shape[2],\n",
    "                        transform=out_transform,\n",
    "                        nodata=0, )\n",
    "\n",
    "    with rasterio.open(output_path, \"w\", **out_meta) as dest:\n",
    "        dest.update_tags(start_date=date, end_date=date)\n",
    "        if name:\n",
    "            dest.update_tags(name=name)\n",
    "        if colormap:\n",
    "            dest.update_tags(colormap=colormap)\n",
    "        dest.write(out_image)"
   ]
  },
  {
   "cell_type": "code",
   "execution_count": null,
   "metadata": {},
   "outputs": [],
   "source": [
    "def transform_crs(data_path, save_path, dst_crs=\"EPSG:4326\", resolution=(10, 10)):\n",
    "    with rasterio.open(data_path) as src:\n",
    "        if resolution is None:\n",
    "            transform, width, height = calculate_default_transform(\n",
    "                src.crs, dst_crs, src.width, src.height, *src.bounds\n",
    "            )\n",
    "        else:\n",
    "            transform, width, height = calculate_default_transform(\n",
    "                src.crs,\n",
    "                dst_crs,\n",
    "                src.width,\n",
    "                src.height,\n",
    "                *src.bounds,\n",
    "                resolution=resolution,\n",
    "            )\n",
    "        kwargs = src.meta.copy()\n",
    "        kwargs.update(\n",
    "            {\"crs\": dst_crs, \"transform\": transform, \"width\": width, \"height\": height}\n",
    "        )\n",
    "        with rasterio.open(save_path, \"w\", **kwargs) as dst:\n",
    "            for i in range(1, src.count + 1):\n",
    "                reproject(\n",
    "                    source=rasterio.band(src, i),\n",
    "                    destination=rasterio.band(dst, i),\n",
    "                    src_transform=src.transform,\n",
    "                    src_crs=src.crs,\n",
    "                    dst_transform=transform,\n",
    "                    dst_crs=dst_crs,\n",
    "                    resampling=Resampling.nearest,\n",
    "                )\n",
    "\n",
    "    return save_path"
   ]
  },
  {
   "cell_type": "code",
   "execution_count": null,
   "metadata": {},
   "outputs": [],
   "source": [
    "def stitch_tiles(paths, out_raster_path, date, name=None, colormap=None):\n",
    "    if not isinstance(paths[0], str):\n",
    "        paths = [str(x) for x in paths]\n",
    "    tiles = []\n",
    "    tmp_files = []\n",
    "    \n",
    "    crs = None\n",
    "    meta = None\n",
    "    for i, path in enumerate(paths):\n",
    "        if i == 0:\n",
    "            file = rasterio.open(path)\n",
    "            meta, crs = file.meta, file.crs\n",
    "        else:\n",
    "            tmp_path = path.replace(\n",
    "                '.jp2', '_tmp.jp2').replace('.tif', '_tmp.tif')\n",
    "            crs_transformed = transform_crs(path, tmp_path, \n",
    "                                            dst_crs=crs, \n",
    "                                            resolution=None)\n",
    "            tmp_files.append(crs_transformed)\n",
    "            file = rasterio.open(crs_transformed)\n",
    "        tiles.append(file)\n",
    "            \n",
    "    tile_arr, transform = merge(tiles, method='last')\n",
    "    \n",
    "    meta.update({\"driver\": \"GTiff\",\n",
    "                 \"height\": tile_arr.shape[1],\n",
    "                 \"width\": tile_arr.shape[2],\n",
    "                 \"transform\": transform,\n",
    "                 \"crs\": crs})\n",
    "    \n",
    "    if '.jp2' in out_raster_path:\n",
    "        out_raster_path = out_raster_path.replace('.jp2', '.tif')\n",
    "    print(f'saved raster {out_raster_path}')\n",
    "\n",
    "    for tile in tiles:\n",
    "        tile.close()\n",
    "        \n",
    "    for tmp_file in tmp_files:\n",
    "        try:\n",
    "            os.remove(tmp_file)\n",
    "        except FileNotFoundError:\n",
    "            print(f'Tile {tmp_file} was removed or renamed, skipping')\n",
    "        \n",
    "    with rasterio.open(out_raster_path, \"w\", **meta) as dst:\n",
    "        dst.update_tags(start_date=date, end_date=date)\n",
    "        if name:\n",
    "            dst.update_tags(name=name)\n",
    "        if colormap:\n",
    "            dst.update_tags(colormap=colormap)\n",
    "        dst.write(tile_arr)\n",
    "    \n",
    "    return out_raster_path"
   ]
  },
  {
   "cell_type": "code",
   "execution_count": null,
   "metadata": {},
   "outputs": [],
   "source": [
    "def calculate_EBI(tci_path, save_path, eps=256):\n",
    "    np.seterr(divide='ignore', invalid='ignore')\n",
    "    with rasterio.open(tci_path) as src:\n",
    "        red = src.read(1).astype(rasterio.float32)\n",
    "        green = src.read(2).astype(rasterio.float32)\n",
    "        blue = src.read(3).astype(rasterio.float32)\n",
    "        crs = str(src.crs)\n",
    "    EBI = (red + green + blue) / ((green / blue) * (red - blue + eps))\n",
    "    EBI = scale(EBI)\n",
    "\n",
    "    colored = color_ebi(EBI, COLORS)\n",
    "    out_meta = src.meta.copy()\n",
    "    out_meta.update(dtype=rasterio.uint8,\n",
    "                    driver='GTiff',\n",
    "                    nodata=0,\n",
    "                    count=3, )\n",
    "    \n",
    "    # Create the file\n",
    "    with rasterio.open(save_path, 'w', **out_meta) as dst:\n",
    "         dst.write(colored)"
   ]
  },
  {
   "attachments": {},
   "cell_type": "markdown",
   "metadata": {},
   "source": [
    "#### 4.2 Calculate and crop EBI\n",
    "\n",
    "#### Filenames have next names: TILE_ID_ACQUIREDDATE"
   ]
  },
  {
   "cell_type": "code",
   "execution_count": null,
   "metadata": {},
   "outputs": [],
   "source": [
    "if not filtered['TCI']:\n",
    "    geojson_path = os.path.join(OUTPUT_NODATA_FOLDER, \"aoi.geojson\")\n",
    "    dump_no_data_geojson(aoi.geometry[0], geojson_path)\n",
    "    raise ValueError(\"Images not loaded for given AOI. Change dates, constraints\")\n",
    "\n",
    "with tempfile.TemporaryDirectory() as tmp_dir:\n",
    "    images_tci = []\n",
    "    images_ebi = []\n",
    "    polygon = wkt.loads(AOI)\n",
    "    for tci_path in filtered['TCI']:\n",
    "        try:\n",
    "            print(\"Start calculation EBI\")\n",
    "            acquired_date = filtered['date']\n",
    "            \n",
    "            with rasterio.open(tci_path) as src:\n",
    "                tile_crs = str(src.crs)\n",
    "            transformed_poly = to_crs(polygon, tile_crs)\n",
    "            temp_cropped_tci = os.path.join(tmp_dir, f\"{uuid.uuid4()}.tif\")\n",
    "            temp_cropped_ebi = os.path.join(tmp_dir, f\"{uuid.uuid4()}.tif\")\n",
    "\n",
    "            crop(tci_path, temp_cropped_tci, transformed_poly, acquired_date, name=\"Sentinel-2 EBI\", colormap=colormap_tag)\n",
    "            calculate_EBI(temp_cropped_tci, temp_cropped_ebi)\n",
    "            print(\"End calculation EBI\")\n",
    "        \n",
    "            images_tci.append(temp_cropped_tci)\n",
    "            images_ebi.append(temp_cropped_ebi)\n",
    "        except Exception as e:\n",
    "            print(f\"Cannot calculate EBI: {str(e)}\")\n",
    "\n",
    "    if len(images_ebi) > 1:\n",
    "        stitch_tiles(images_ebi, OUTPUT_EBI_FILE, acquired_date, name=\"Sentinel-2 EBI\", colormap=colormap_tag)\n",
    "        stitch_tiles(images_tci, OUTPUT_TCI_FILE, acquired_date, name=\"Sentinel-2 RGB Raster\")\n",
    "    else:\n",
    "        shutil.copy(images_ebi[0], OUTPUT_EBI_FILE)\n",
    "        shutil.copy(images_tci[0], OUTPUT_TCI_FILE)"
   ]
  }
 ],
 "metadata": {
  "kernelspec": {
   "display_name": "Python 3 (ipykernel)",
   "language": "python",
   "name": "python3"
  },
  "language_info": {
   "codemirror_mode": {
    "name": "ipython",
    "version": 3
   },
   "file_extension": ".py",
   "mimetype": "text/x-python",
   "name": "python",
   "nbconvert_exporter": "python",
   "pygments_lexer": "ipython3",
   "version": "3.8.15"
  }
 },
 "nbformat": 4,
 "nbformat_minor": 4
}
